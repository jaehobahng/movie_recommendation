{
 "cells": [
  {
   "cell_type": "markdown",
   "metadata": {},
   "source": [
    "https://www.kaggle.com/datasets/rounakbanik/the-movies-dataset?resource=download\n"
   ]
  },
  {
   "cell_type": "markdown",
   "metadata": {},
   "source": [
    "# Read Data"
   ]
  },
  {
   "cell_type": "code",
   "execution_count": 199,
   "metadata": {},
   "outputs": [],
   "source": [
    "import pandas as pd\n",
    "pd.set_option('display.max_columns', None)"
   ]
  },
  {
   "cell_type": "code",
   "execution_count": 282,
   "metadata": {},
   "outputs": [
    {
     "name": "stderr",
     "output_type": "stream",
     "text": [
      "C:\\Users\\JaeHoBahng\\AppData\\Local\\Temp\\ipykernel_8532\\3188001465.py:14: DtypeWarning: Columns (10) have mixed types. Specify dtype option on import or set low_memory=False.\n",
      "  dataframes[df_name] = pd.read_csv(file_path)\n"
     ]
    },
    {
     "name": "stdout",
     "output_type": "stream",
     "text": [
      "dict_keys(['credits', 'keywords', 'links', 'links_small', 'movies_metadata', 'ratings', 'ratings_small'])\n"
     ]
    }
   ],
   "source": [
    "import os\n",
    "import pandas as pd\n",
    "\n",
    "# Define the folder path\n",
    "folder_path = \"./data/kaggle_movies\"\n",
    "\n",
    "# Read all CSV files in the folder\n",
    "dataframes = {}\n",
    "\n",
    "for file in os.listdir(folder_path):\n",
    "    if file.endswith(\".csv\"):\n",
    "        df_name = file.replace(\".csv\", \"\")  # Remove .csv extension for variable name\n",
    "        file_path = os.path.join(folder_path, file)\n",
    "        dataframes[df_name] = pd.read_csv(file_path)\n",
    "\n",
    "# Now you can access each dataframe using its filename as the key in the dictionary\n",
    "print(dataframes.keys())  # Print all dataframe names loaded\n"
   ]
  },
  {
   "cell_type": "code",
   "execution_count": 283,
   "metadata": {},
   "outputs": [],
   "source": [
    "credits = dataframes['credits']\n",
    "keywords = dataframes['keywords']\n",
    "links = dataframes['links']\n",
    "links_small = dataframes['links_small']\n",
    "movies_metadata = dataframes['movies_metadata']\n",
    "ratings = dataframes['ratings']\n",
    "ratings_small = dataframes['ratings_small']"
   ]
  },
  {
   "cell_type": "code",
   "execution_count": 297,
   "metadata": {},
   "outputs": [],
   "source": [
    "movies_metadata['id'] = pd.to_numeric(movies_metadata['id'], errors='coerce')"
   ]
  },
  {
   "cell_type": "code",
   "execution_count": 298,
   "metadata": {},
   "outputs": [],
   "source": [
    "merged_df = movies_metadata.merge(links, left_on='id', right_on='tmdbId', how='left')\n",
    "merged_df = merged_df[~merged_df['id'].isnull()]"
   ]
  },
  {
   "cell_type": "code",
   "execution_count": 273,
   "metadata": {},
   "outputs": [
    {
     "data": {
      "text/html": [
       "<div>\n",
       "<style scoped>\n",
       "    .dataframe tbody tr th:only-of-type {\n",
       "        vertical-align: middle;\n",
       "    }\n",
       "\n",
       "    .dataframe tbody tr th {\n",
       "        vertical-align: top;\n",
       "    }\n",
       "\n",
       "    .dataframe thead th {\n",
       "        text-align: right;\n",
       "    }\n",
       "</style>\n",
       "<table border=\"1\" class=\"dataframe\">\n",
       "  <thead>\n",
       "    <tr style=\"text-align: right;\">\n",
       "      <th></th>\n",
       "      <th>id</th>\n",
       "      <th>keywords</th>\n",
       "    </tr>\n",
       "  </thead>\n",
       "  <tbody>\n",
       "    <tr>\n",
       "      <th>0</th>\n",
       "      <td>862</td>\n",
       "      <td>[{'id': 931, 'name': 'jealousy'}, {'id': 4290,...</td>\n",
       "    </tr>\n",
       "    <tr>\n",
       "      <th>1</th>\n",
       "      <td>8844</td>\n",
       "      <td>[{'id': 10090, 'name': 'board game'}, {'id': 1...</td>\n",
       "    </tr>\n",
       "    <tr>\n",
       "      <th>2</th>\n",
       "      <td>15602</td>\n",
       "      <td>[{'id': 1495, 'name': 'fishing'}, {'id': 12392...</td>\n",
       "    </tr>\n",
       "    <tr>\n",
       "      <th>3</th>\n",
       "      <td>31357</td>\n",
       "      <td>[{'id': 818, 'name': 'based on novel'}, {'id':...</td>\n",
       "    </tr>\n",
       "    <tr>\n",
       "      <th>4</th>\n",
       "      <td>11862</td>\n",
       "      <td>[{'id': 1009, 'name': 'baby'}, {'id': 1599, 'n...</td>\n",
       "    </tr>\n",
       "    <tr>\n",
       "      <th>...</th>\n",
       "      <td>...</td>\n",
       "      <td>...</td>\n",
       "    </tr>\n",
       "    <tr>\n",
       "      <th>46414</th>\n",
       "      <td>439050</td>\n",
       "      <td>[{'id': 10703, 'name': 'tragic love'}]</td>\n",
       "    </tr>\n",
       "    <tr>\n",
       "      <th>46415</th>\n",
       "      <td>111109</td>\n",
       "      <td>[{'id': 2679, 'name': 'artist'}, {'id': 14531,...</td>\n",
       "    </tr>\n",
       "    <tr>\n",
       "      <th>46416</th>\n",
       "      <td>67758</td>\n",
       "      <td>[]</td>\n",
       "    </tr>\n",
       "    <tr>\n",
       "      <th>46417</th>\n",
       "      <td>227506</td>\n",
       "      <td>[]</td>\n",
       "    </tr>\n",
       "    <tr>\n",
       "      <th>46418</th>\n",
       "      <td>461257</td>\n",
       "      <td>[]</td>\n",
       "    </tr>\n",
       "  </tbody>\n",
       "</table>\n",
       "<p>46419 rows × 2 columns</p>\n",
       "</div>"
      ],
      "text/plain": [
       "           id                                           keywords\n",
       "0         862  [{'id': 931, 'name': 'jealousy'}, {'id': 4290,...\n",
       "1        8844  [{'id': 10090, 'name': 'board game'}, {'id': 1...\n",
       "2       15602  [{'id': 1495, 'name': 'fishing'}, {'id': 12392...\n",
       "3       31357  [{'id': 818, 'name': 'based on novel'}, {'id':...\n",
       "4       11862  [{'id': 1009, 'name': 'baby'}, {'id': 1599, 'n...\n",
       "...       ...                                                ...\n",
       "46414  439050             [{'id': 10703, 'name': 'tragic love'}]\n",
       "46415  111109  [{'id': 2679, 'name': 'artist'}, {'id': 14531,...\n",
       "46416   67758                                                 []\n",
       "46417  227506                                                 []\n",
       "46418  461257                                                 []\n",
       "\n",
       "[46419 rows x 2 columns]"
      ]
     },
     "execution_count": 273,
     "metadata": {},
     "output_type": "execute_result"
    }
   ],
   "source": [
    "keywords"
   ]
  },
  {
   "cell_type": "code",
   "execution_count": 299,
   "metadata": {},
   "outputs": [],
   "source": [
    "# import ast\n",
    "\n",
    "# # Convert string representation of list to actual list\n",
    "# keywords[\"keywords\"] = keywords[\"keywords\"].apply(ast.literal_eval)\n",
    "\n",
    "# # Extract only the 'name' values\n",
    "# keywords[\"keywords_list\"] = keywords[\"keywords\"].apply(lambda x: [d[\"name\"] for d in x] if isinstance(x, list) else [])\n"
   ]
  },
  {
   "cell_type": "code",
   "execution_count": 300,
   "metadata": {},
   "outputs": [],
   "source": [
    "# keywords[\"keywords_str\"] = keywords[\"keywords_list\"].apply(lambda x: \" \".join(x) if isinstance(x, list) else \"\")\n"
   ]
  },
  {
   "cell_type": "code",
   "execution_count": 292,
   "metadata": {},
   "outputs": [],
   "source": [
    "# from sentence_transformers import SentenceTransformer\n",
    "# import numpy as np\n",
    "# from sklearn.metrics.pairwise import cosine_similarity\n",
    "\n",
    "# # Load a pre-trained sentence embedding model\n",
    "# model = SentenceTransformer(\"all-MiniLM-L6-v2\")\n",
    "\n",
    "# # Generate embeddings\n",
    "# keywords[\"embedding\"] = keywords[\"keywords_str\"].apply(lambda x: model.encode(x))"
   ]
  },
  {
   "cell_type": "code",
   "execution_count": 293,
   "metadata": {},
   "outputs": [],
   "source": [
    "# # Convert to NumPy array\n",
    "# embedding_matrix = np.vstack(df[\"embedding\"].values)\n",
    "\n",
    "# # Compute cosine similarity\n",
    "# similarity_matrix = cosine_similarity(embedding_matrix, embedding_matrix)\n",
    "\n",
    "# # Convert to DataFrame\n",
    "# similarity_df = pd.DataFrame(similarity_matrix, index=df[\"movieId\"], columns=df[\"movieId\"])\n",
    "\n",
    "# # Find most similar movies\n",
    "# similar_movies = similarity_df[1].sort_values(ascending=False).head(10)"
   ]
  },
  {
   "cell_type": "code",
   "execution_count": null,
   "metadata": {},
   "outputs": [],
   "source": []
  },
  {
   "cell_type": "code",
   "execution_count": null,
   "metadata": {},
   "outputs": [],
   "source": []
  },
  {
   "cell_type": "code",
   "execution_count": null,
   "metadata": {},
   "outputs": [],
   "source": []
  },
  {
   "cell_type": "code",
   "execution_count": null,
   "metadata": {},
   "outputs": [],
   "source": []
  },
  {
   "cell_type": "markdown",
   "metadata": {},
   "source": [
    "# Create user x movie matrix on ratings"
   ]
  },
  {
   "cell_type": "code",
   "execution_count": 295,
   "metadata": {},
   "outputs": [],
   "source": [
    "from scipy.sparse import csr_matrix\n",
    "import numpy as np\n",
    "\n",
    "def create_X(df):\n",
    "    \"\"\"\n",
    "    Generates a sparse matrix from ratings dataframe.\n",
    "    \n",
    "    Args:\n",
    "        df: pandas dataframe containing 3 columns (userId, movieId, rating)\n",
    "    \n",
    "    Returns:\n",
    "        X: sparse matrix\n",
    "        user_mapper: dict that maps user id's to user indices\n",
    "        user_inv_mapper: dict that maps user indices to user id's\n",
    "        movie_mapper: dict that maps movie id's to movie indices\n",
    "        movie_inv_mapper: dict that maps movie indices to movie id's\n",
    "    \"\"\"\n",
    "\n",
    "    # Number of unique users and movies to form matrix\n",
    "    M = df['userId'].nunique()\n",
    "    N = df['movieId'].nunique()\n",
    "\n",
    "    # Map user/movie ID to an index (id, index)\n",
    "    user_mapper = dict(zip(np.unique(df[\"userId\"]), list(range(M))))\n",
    "    movie_mapper = dict(zip(np.unique(df[\"movieId\"]), list(range(N))))\n",
    "    \n",
    "    # Map an index to a user/movie ID (index,id)\n",
    "    user_inv_mapper = dict(zip(list(range(M)), np.unique(df[\"userId\"])))\n",
    "    movie_inv_mapper = dict(zip(list(range(N)), np.unique(df[\"movieId\"])))\n",
    "    \n",
    "    # list of unique indexes for users and movies\n",
    "    user_index = [user_mapper[i] for i in df['userId']]\n",
    "    item_index = [movie_mapper[i] for i in df['movieId']]\n",
    "\n",
    "    \n",
    "    X = csr_matrix((df[\"rating\"], (user_index,item_index)), shape=(M,N))\n",
    "    \n",
    "    return X, user_mapper, movie_mapper, user_inv_mapper, movie_inv_mapper\n",
    "\n",
    "X, user_mapper, movie_mapper, user_inv_mapper, movie_inv_mapper = create_X(ratings)"
   ]
  },
  {
   "cell_type": "code",
   "execution_count": 38,
   "metadata": {},
   "outputs": [
    {
     "data": {
      "text/plain": [
       "(270896, 45115)"
      ]
     },
     "execution_count": 38,
     "metadata": {},
     "output_type": "execute_result"
    }
   ],
   "source": [
    "X.shape"
   ]
  },
  {
   "cell_type": "code",
   "execution_count": 301,
   "metadata": {},
   "outputs": [
    {
     "name": "stdout",
     "output_type": "stream",
     "text": [
      "Matrix sparsity: 0.21%\n"
     ]
    }
   ],
   "source": [
    "n_total = X.shape[0]*X.shape[1]     # number of all user movie combination\n",
    "n_ratings = X.nnz                   # number of ratings\n",
    "sparsity = n_ratings/n_total\n",
    "print(f\"Matrix sparsity: {round(sparsity*100,2)}%\")"
   ]
  },
  {
   "cell_type": "code",
   "execution_count": null,
   "metadata": {},
   "outputs": [],
   "source": []
  },
  {
   "cell_type": "markdown",
   "metadata": {},
   "source": [
    "# item-item recommendations with k-nn\n",
    "**What movies were rated similarly by users?**"
   ]
  },
  {
   "cell_type": "code",
   "execution_count": 302,
   "metadata": {},
   "outputs": [],
   "source": [
    "from sklearn.neighbors import NearestNeighbors\n",
    "\n",
    "def find_similar_movies(movie_id, X, movie_mapper, movie_inv_mapper, k, metric='cosine'):\n",
    "    \"\"\"\n",
    "    Finds k-nearest neighbours for a given movie id.\n",
    "    \n",
    "    Args:\n",
    "        movie_id: id of the movie of interest\n",
    "        X: user-item utility matrix\n",
    "        k: number of similar movies to retrieve\n",
    "        metric: distance metric for kNN calculations\n",
    "    \n",
    "    Output: returns list of k similar movie ID's\n",
    "    \"\"\"\n",
    "    X = X.T\n",
    "    neighbour_ids = []\n",
    "    \n",
    "    movie_ind = movie_mapper[movie_id]\n",
    "    movie_vec = X[movie_ind]\n",
    "    if isinstance(movie_vec, (np.ndarray)):\n",
    "        movie_vec = movie_vec.reshape(1,-1)\n",
    "    # use k+1 since kNN output includes the movieId of interest\n",
    "    kNN = NearestNeighbors(n_neighbors=k+1, algorithm=\"brute\", metric=metric)\n",
    "    kNN.fit(X)\n",
    "    neighbour = kNN.kneighbors(movie_vec, return_distance=False)\n",
    "    for i in range(0,k):\n",
    "        n = neighbour.item(i)\n",
    "        neighbour_ids.append(movie_inv_mapper[n])\n",
    "    neighbour_ids.pop(0)\n",
    "    return neighbour_ids"
   ]
  },
  {
   "cell_type": "code",
   "execution_count": 303,
   "metadata": {},
   "outputs": [
    {
     "data": {
      "text/plain": [
       "[260, 780, 1270, 3114, 480, 356, 648, 1210, 364]"
      ]
     },
     "execution_count": 303,
     "metadata": {},
     "output_type": "execute_result"
    }
   ],
   "source": [
    "search = 1\n",
    "similar_movies = find_similar_movies(search, X, movie_mapper, movie_inv_mapper, k=10)\n",
    "similar_movies"
   ]
  },
  {
   "cell_type": "code",
   "execution_count": 304,
   "metadata": {},
   "outputs": [
    {
     "data": {
      "text/plain": [
       "'Toy Story'"
      ]
     },
     "execution_count": 304,
     "metadata": {},
     "output_type": "execute_result"
    }
   ],
   "source": [
    "merged_df[merged_df['movieId'] == search]['title'][0]"
   ]
  },
  {
   "cell_type": "code",
   "execution_count": 305,
   "metadata": {},
   "outputs": [
    {
     "data": {
      "text/plain": [
       "256               Star Wars\n",
       "351            Forrest Gump\n",
       "359           The Lion King\n",
       "475           Jurassic Park\n",
       "638     Mission: Impossible\n",
       "761        Independence Day\n",
       "1170     Return of the Jedi\n",
       "1228     Back to the Future\n",
       "3002            Toy Story 2\n",
       "Name: title, dtype: object"
      ]
     },
     "execution_count": 305,
     "metadata": {},
     "output_type": "execute_result"
    }
   ],
   "source": [
    "merged_df[merged_df['movieId'].isin(similar_movies)]['title']"
   ]
  },
  {
   "cell_type": "code",
   "execution_count": 119,
   "metadata": {},
   "outputs": [
    {
     "data": {
      "text/html": [
       "<div>\n",
       "<style scoped>\n",
       "    .dataframe tbody tr th:only-of-type {\n",
       "        vertical-align: middle;\n",
       "    }\n",
       "\n",
       "    .dataframe tbody tr th {\n",
       "        vertical-align: top;\n",
       "    }\n",
       "\n",
       "    .dataframe thead th {\n",
       "        text-align: right;\n",
       "    }\n",
       "</style>\n",
       "<table border=\"1\" class=\"dataframe\">\n",
       "  <thead>\n",
       "    <tr style=\"text-align: right;\">\n",
       "      <th></th>\n",
       "      <th>belongs_to_collection</th>\n",
       "      <th>genres</th>\n",
       "      <th>original_title</th>\n",
       "      <th>popularity</th>\n",
       "      <th>title</th>\n",
       "      <th>vote_average</th>\n",
       "      <th>vote_count</th>\n",
       "      <th>movieId</th>\n",
       "      <th>imdbId</th>\n",
       "      <th>tmdbId</th>\n",
       "    </tr>\n",
       "  </thead>\n",
       "  <tbody>\n",
       "    <tr>\n",
       "      <th>256</th>\n",
       "      <td>{'id': 10, 'name': 'Star Wars Collection', 'po...</td>\n",
       "      <td>[{'id': 12, 'name': 'Adventure'}, {'id': 28, '...</td>\n",
       "      <td>Star Wars</td>\n",
       "      <td>42.149697</td>\n",
       "      <td>Star Wars</td>\n",
       "      <td>8.1</td>\n",
       "      <td>6778.0</td>\n",
       "      <td>260</td>\n",
       "      <td>76759</td>\n",
       "      <td>11.0</td>\n",
       "    </tr>\n",
       "    <tr>\n",
       "      <th>351</th>\n",
       "      <td>NaN</td>\n",
       "      <td>[{'id': 35, 'name': 'Comedy'}, {'id': 18, 'nam...</td>\n",
       "      <td>Forrest Gump</td>\n",
       "      <td>48.307194</td>\n",
       "      <td>Forrest Gump</td>\n",
       "      <td>8.2</td>\n",
       "      <td>8147.0</td>\n",
       "      <td>356</td>\n",
       "      <td>109830</td>\n",
       "      <td>13.0</td>\n",
       "    </tr>\n",
       "    <tr>\n",
       "      <th>359</th>\n",
       "      <td>{'id': 94032, 'name': 'The Lion King Collectio...</td>\n",
       "      <td>[{'id': 10751, 'name': 'Family'}, {'id': 16, '...</td>\n",
       "      <td>The Lion King</td>\n",
       "      <td>21.605761</td>\n",
       "      <td>The Lion King</td>\n",
       "      <td>8.0</td>\n",
       "      <td>5520.0</td>\n",
       "      <td>364</td>\n",
       "      <td>110357</td>\n",
       "      <td>8587.0</td>\n",
       "    </tr>\n",
       "    <tr>\n",
       "      <th>475</th>\n",
       "      <td>{'id': 328, 'name': 'Jurassic Park Collection'...</td>\n",
       "      <td>[{'id': 12, 'name': 'Adventure'}, {'id': 878, ...</td>\n",
       "      <td>Jurassic Park</td>\n",
       "      <td>8.863776</td>\n",
       "      <td>Jurassic Park</td>\n",
       "      <td>7.6</td>\n",
       "      <td>4956.0</td>\n",
       "      <td>480</td>\n",
       "      <td>107290</td>\n",
       "      <td>329.0</td>\n",
       "    </tr>\n",
       "    <tr>\n",
       "      <th>638</th>\n",
       "      <td>{'id': 87359, 'name': 'Mission: Impossible Col...</td>\n",
       "      <td>[{'id': 12, 'name': 'Adventure'}, {'id': 28, '...</td>\n",
       "      <td>Mission: Impossible</td>\n",
       "      <td>15.793477</td>\n",
       "      <td>Mission: Impossible</td>\n",
       "      <td>6.7</td>\n",
       "      <td>2677.0</td>\n",
       "      <td>648</td>\n",
       "      <td>117060</td>\n",
       "      <td>954.0</td>\n",
       "    </tr>\n",
       "    <tr>\n",
       "      <th>761</th>\n",
       "      <td>{'id': 304378, 'name': 'Independence Day Colle...</td>\n",
       "      <td>[{'id': 28, 'name': 'Action'}, {'id': 12, 'nam...</td>\n",
       "      <td>Independence Day</td>\n",
       "      <td>17.634197</td>\n",
       "      <td>Independence Day</td>\n",
       "      <td>6.7</td>\n",
       "      <td>3334.0</td>\n",
       "      <td>780</td>\n",
       "      <td>116629</td>\n",
       "      <td>602.0</td>\n",
       "    </tr>\n",
       "    <tr>\n",
       "      <th>1170</th>\n",
       "      <td>{'id': 10, 'name': 'Star Wars Collection', 'po...</td>\n",
       "      <td>[{'id': 12, 'name': 'Adventure'}, {'id': 28, '...</td>\n",
       "      <td>Return of the Jedi</td>\n",
       "      <td>14.586087</td>\n",
       "      <td>Return of the Jedi</td>\n",
       "      <td>7.9</td>\n",
       "      <td>4763.0</td>\n",
       "      <td>1210</td>\n",
       "      <td>86190</td>\n",
       "      <td>1892.0</td>\n",
       "    </tr>\n",
       "    <tr>\n",
       "      <th>1228</th>\n",
       "      <td>{'id': 264, 'name': 'Back to the Future Collec...</td>\n",
       "      <td>[{'id': 12, 'name': 'Adventure'}, {'id': 35, '...</td>\n",
       "      <td>Back to the Future</td>\n",
       "      <td>25.778509</td>\n",
       "      <td>Back to the Future</td>\n",
       "      <td>8.0</td>\n",
       "      <td>6239.0</td>\n",
       "      <td>1270</td>\n",
       "      <td>88763</td>\n",
       "      <td>105.0</td>\n",
       "    </tr>\n",
       "    <tr>\n",
       "      <th>3002</th>\n",
       "      <td>{'id': 10194, 'name': 'Toy Story Collection', ...</td>\n",
       "      <td>[{'id': 16, 'name': 'Animation'}, {'id': 35, '...</td>\n",
       "      <td>Toy Story 2</td>\n",
       "      <td>17.547693</td>\n",
       "      <td>Toy Story 2</td>\n",
       "      <td>7.3</td>\n",
       "      <td>3914.0</td>\n",
       "      <td>3114</td>\n",
       "      <td>120363</td>\n",
       "      <td>863.0</td>\n",
       "    </tr>\n",
       "  </tbody>\n",
       "</table>\n",
       "</div>"
      ],
      "text/plain": [
       "                                  belongs_to_collection  \\\n",
       "256   {'id': 10, 'name': 'Star Wars Collection', 'po...   \n",
       "351                                                 NaN   \n",
       "359   {'id': 94032, 'name': 'The Lion King Collectio...   \n",
       "475   {'id': 328, 'name': 'Jurassic Park Collection'...   \n",
       "638   {'id': 87359, 'name': 'Mission: Impossible Col...   \n",
       "761   {'id': 304378, 'name': 'Independence Day Colle...   \n",
       "1170  {'id': 10, 'name': 'Star Wars Collection', 'po...   \n",
       "1228  {'id': 264, 'name': 'Back to the Future Collec...   \n",
       "3002  {'id': 10194, 'name': 'Toy Story Collection', ...   \n",
       "\n",
       "                                                 genres       original_title  \\\n",
       "256   [{'id': 12, 'name': 'Adventure'}, {'id': 28, '...            Star Wars   \n",
       "351   [{'id': 35, 'name': 'Comedy'}, {'id': 18, 'nam...         Forrest Gump   \n",
       "359   [{'id': 10751, 'name': 'Family'}, {'id': 16, '...        The Lion King   \n",
       "475   [{'id': 12, 'name': 'Adventure'}, {'id': 878, ...        Jurassic Park   \n",
       "638   [{'id': 12, 'name': 'Adventure'}, {'id': 28, '...  Mission: Impossible   \n",
       "761   [{'id': 28, 'name': 'Action'}, {'id': 12, 'nam...     Independence Day   \n",
       "1170  [{'id': 12, 'name': 'Adventure'}, {'id': 28, '...   Return of the Jedi   \n",
       "1228  [{'id': 12, 'name': 'Adventure'}, {'id': 35, '...   Back to the Future   \n",
       "3002  [{'id': 16, 'name': 'Animation'}, {'id': 35, '...          Toy Story 2   \n",
       "\n",
       "     popularity                title  vote_average  vote_count  movieId  \\\n",
       "256   42.149697            Star Wars           8.1      6778.0      260   \n",
       "351   48.307194         Forrest Gump           8.2      8147.0      356   \n",
       "359   21.605761        The Lion King           8.0      5520.0      364   \n",
       "475    8.863776        Jurassic Park           7.6      4956.0      480   \n",
       "638   15.793477  Mission: Impossible           6.7      2677.0      648   \n",
       "761   17.634197     Independence Day           6.7      3334.0      780   \n",
       "1170  14.586087   Return of the Jedi           7.9      4763.0     1210   \n",
       "1228  25.778509   Back to the Future           8.0      6239.0     1270   \n",
       "3002  17.547693          Toy Story 2           7.3      3914.0     3114   \n",
       "\n",
       "      imdbId  tmdbId  \n",
       "256    76759    11.0  \n",
       "351   109830    13.0  \n",
       "359   110357  8587.0  \n",
       "475   107290   329.0  \n",
       "638   117060   954.0  \n",
       "761   116629   602.0  \n",
       "1170   86190  1892.0  \n",
       "1228   88763   105.0  \n",
       "3002  120363   863.0  "
      ]
     },
     "execution_count": 119,
     "metadata": {},
     "output_type": "execute_result"
    }
   ],
   "source": [
    "merged_df[merged_df['movieId'].isin(similar_movies)][['belongs_to_collection','genres','original_title','popularity','title','vote_average','vote_count','movieId','imdbId','tmdbId']]"
   ]
  },
  {
   "cell_type": "code",
   "execution_count": null,
   "metadata": {},
   "outputs": [],
   "source": []
  },
  {
   "cell_type": "markdown",
   "metadata": {},
   "source": [
    "# Purely based on genre"
   ]
  },
  {
   "cell_type": "code",
   "execution_count": 306,
   "metadata": {},
   "outputs": [
    {
     "name": "stdout",
     "output_type": "stream",
     "text": [
      "0     [Animation, Comedy, Family]\n",
      "1    [Adventure, Fantasy, Family]\n",
      "2               [Romance, Comedy]\n",
      "3        [Comedy, Drama, Romance]\n",
      "4                        [Comedy]\n",
      "Name: genres_list, dtype: object\n"
     ]
    }
   ],
   "source": [
    "import ast\n",
    "\n",
    "# Convert string representation of list to actual list\n",
    "merged_df[\"genres\"] = merged_df[\"genres\"].apply(ast.literal_eval)\n",
    "\n",
    "# Extract only the 'name' values\n",
    "merged_df[\"genres_list\"] = merged_df[\"genres\"].apply(lambda x: [d[\"name\"] for d in x] if isinstance(x, list) else [])\n",
    "\n",
    "# Verify the transformation\n",
    "print(merged_df[\"genres_list\"].head())\n"
   ]
  },
  {
   "cell_type": "code",
   "execution_count": 307,
   "metadata": {},
   "outputs": [],
   "source": []
  },
  {
   "cell_type": "code",
   "execution_count": 308,
   "metadata": {},
   "outputs": [
    {
     "name": "stderr",
     "output_type": "stream",
     "text": [
      "C:\\Users\\JaeHoBahng\\AppData\\Local\\Temp\\ipykernel_8532\\209495771.py:5: SettingWithCopyWarning: \n",
      "A value is trying to be set on a copy of a slice from a DataFrame.\n",
      "Try using .loc[row_indexer,col_indexer] = value instead\n",
      "\n",
      "See the caveats in the documentation: https://pandas.pydata.org/pandas-docs/stable/user_guide/indexing.html#returning-a-view-versus-a-copy\n",
      "  test[g] = test.genres_list.transform(lambda x: int(g in x))\n",
      "C:\\Users\\JaeHoBahng\\AppData\\Local\\Temp\\ipykernel_8532\\209495771.py:5: SettingWithCopyWarning: \n",
      "A value is trying to be set on a copy of a slice from a DataFrame.\n",
      "Try using .loc[row_indexer,col_indexer] = value instead\n",
      "\n",
      "See the caveats in the documentation: https://pandas.pydata.org/pandas-docs/stable/user_guide/indexing.html#returning-a-view-versus-a-copy\n",
      "  test[g] = test.genres_list.transform(lambda x: int(g in x))\n",
      "C:\\Users\\JaeHoBahng\\AppData\\Local\\Temp\\ipykernel_8532\\209495771.py:5: SettingWithCopyWarning: \n",
      "A value is trying to be set on a copy of a slice from a DataFrame.\n",
      "Try using .loc[row_indexer,col_indexer] = value instead\n",
      "\n",
      "See the caveats in the documentation: https://pandas.pydata.org/pandas-docs/stable/user_guide/indexing.html#returning-a-view-versus-a-copy\n",
      "  test[g] = test.genres_list.transform(lambda x: int(g in x))\n",
      "C:\\Users\\JaeHoBahng\\AppData\\Local\\Temp\\ipykernel_8532\\209495771.py:5: SettingWithCopyWarning: \n",
      "A value is trying to be set on a copy of a slice from a DataFrame.\n",
      "Try using .loc[row_indexer,col_indexer] = value instead\n",
      "\n",
      "See the caveats in the documentation: https://pandas.pydata.org/pandas-docs/stable/user_guide/indexing.html#returning-a-view-versus-a-copy\n",
      "  test[g] = test.genres_list.transform(lambda x: int(g in x))\n",
      "C:\\Users\\JaeHoBahng\\AppData\\Local\\Temp\\ipykernel_8532\\209495771.py:5: SettingWithCopyWarning: \n",
      "A value is trying to be set on a copy of a slice from a DataFrame.\n",
      "Try using .loc[row_indexer,col_indexer] = value instead\n",
      "\n",
      "See the caveats in the documentation: https://pandas.pydata.org/pandas-docs/stable/user_guide/indexing.html#returning-a-view-versus-a-copy\n",
      "  test[g] = test.genres_list.transform(lambda x: int(g in x))\n",
      "C:\\Users\\JaeHoBahng\\AppData\\Local\\Temp\\ipykernel_8532\\209495771.py:5: SettingWithCopyWarning: \n",
      "A value is trying to be set on a copy of a slice from a DataFrame.\n",
      "Try using .loc[row_indexer,col_indexer] = value instead\n",
      "\n",
      "See the caveats in the documentation: https://pandas.pydata.org/pandas-docs/stable/user_guide/indexing.html#returning-a-view-versus-a-copy\n",
      "  test[g] = test.genres_list.transform(lambda x: int(g in x))\n",
      "C:\\Users\\JaeHoBahng\\AppData\\Local\\Temp\\ipykernel_8532\\209495771.py:5: SettingWithCopyWarning: \n",
      "A value is trying to be set on a copy of a slice from a DataFrame.\n",
      "Try using .loc[row_indexer,col_indexer] = value instead\n",
      "\n",
      "See the caveats in the documentation: https://pandas.pydata.org/pandas-docs/stable/user_guide/indexing.html#returning-a-view-versus-a-copy\n",
      "  test[g] = test.genres_list.transform(lambda x: int(g in x))\n",
      "C:\\Users\\JaeHoBahng\\AppData\\Local\\Temp\\ipykernel_8532\\209495771.py:5: SettingWithCopyWarning: \n",
      "A value is trying to be set on a copy of a slice from a DataFrame.\n",
      "Try using .loc[row_indexer,col_indexer] = value instead\n",
      "\n",
      "See the caveats in the documentation: https://pandas.pydata.org/pandas-docs/stable/user_guide/indexing.html#returning-a-view-versus-a-copy\n",
      "  test[g] = test.genres_list.transform(lambda x: int(g in x))\n",
      "C:\\Users\\JaeHoBahng\\AppData\\Local\\Temp\\ipykernel_8532\\209495771.py:5: SettingWithCopyWarning: \n",
      "A value is trying to be set on a copy of a slice from a DataFrame.\n",
      "Try using .loc[row_indexer,col_indexer] = value instead\n",
      "\n",
      "See the caveats in the documentation: https://pandas.pydata.org/pandas-docs/stable/user_guide/indexing.html#returning-a-view-versus-a-copy\n",
      "  test[g] = test.genres_list.transform(lambda x: int(g in x))\n",
      "C:\\Users\\JaeHoBahng\\AppData\\Local\\Temp\\ipykernel_8532\\209495771.py:5: SettingWithCopyWarning: \n",
      "A value is trying to be set on a copy of a slice from a DataFrame.\n",
      "Try using .loc[row_indexer,col_indexer] = value instead\n",
      "\n",
      "See the caveats in the documentation: https://pandas.pydata.org/pandas-docs/stable/user_guide/indexing.html#returning-a-view-versus-a-copy\n",
      "  test[g] = test.genres_list.transform(lambda x: int(g in x))\n",
      "C:\\Users\\JaeHoBahng\\AppData\\Local\\Temp\\ipykernel_8532\\209495771.py:5: SettingWithCopyWarning: \n",
      "A value is trying to be set on a copy of a slice from a DataFrame.\n",
      "Try using .loc[row_indexer,col_indexer] = value instead\n",
      "\n",
      "See the caveats in the documentation: https://pandas.pydata.org/pandas-docs/stable/user_guide/indexing.html#returning-a-view-versus-a-copy\n",
      "  test[g] = test.genres_list.transform(lambda x: int(g in x))\n",
      "C:\\Users\\JaeHoBahng\\AppData\\Local\\Temp\\ipykernel_8532\\209495771.py:5: SettingWithCopyWarning: \n",
      "A value is trying to be set on a copy of a slice from a DataFrame.\n",
      "Try using .loc[row_indexer,col_indexer] = value instead\n",
      "\n",
      "See the caveats in the documentation: https://pandas.pydata.org/pandas-docs/stable/user_guide/indexing.html#returning-a-view-versus-a-copy\n",
      "  test[g] = test.genres_list.transform(lambda x: int(g in x))\n",
      "C:\\Users\\JaeHoBahng\\AppData\\Local\\Temp\\ipykernel_8532\\209495771.py:5: SettingWithCopyWarning: \n",
      "A value is trying to be set on a copy of a slice from a DataFrame.\n",
      "Try using .loc[row_indexer,col_indexer] = value instead\n",
      "\n",
      "See the caveats in the documentation: https://pandas.pydata.org/pandas-docs/stable/user_guide/indexing.html#returning-a-view-versus-a-copy\n",
      "  test[g] = test.genres_list.transform(lambda x: int(g in x))\n",
      "C:\\Users\\JaeHoBahng\\AppData\\Local\\Temp\\ipykernel_8532\\209495771.py:5: SettingWithCopyWarning: \n",
      "A value is trying to be set on a copy of a slice from a DataFrame.\n",
      "Try using .loc[row_indexer,col_indexer] = value instead\n",
      "\n",
      "See the caveats in the documentation: https://pandas.pydata.org/pandas-docs/stable/user_guide/indexing.html#returning-a-view-versus-a-copy\n",
      "  test[g] = test.genres_list.transform(lambda x: int(g in x))\n",
      "C:\\Users\\JaeHoBahng\\AppData\\Local\\Temp\\ipykernel_8532\\209495771.py:5: SettingWithCopyWarning: \n",
      "A value is trying to be set on a copy of a slice from a DataFrame.\n",
      "Try using .loc[row_indexer,col_indexer] = value instead\n",
      "\n",
      "See the caveats in the documentation: https://pandas.pydata.org/pandas-docs/stable/user_guide/indexing.html#returning-a-view-versus-a-copy\n",
      "  test[g] = test.genres_list.transform(lambda x: int(g in x))\n",
      "C:\\Users\\JaeHoBahng\\AppData\\Local\\Temp\\ipykernel_8532\\209495771.py:5: SettingWithCopyWarning: \n",
      "A value is trying to be set on a copy of a slice from a DataFrame.\n",
      "Try using .loc[row_indexer,col_indexer] = value instead\n",
      "\n",
      "See the caveats in the documentation: https://pandas.pydata.org/pandas-docs/stable/user_guide/indexing.html#returning-a-view-versus-a-copy\n",
      "  test[g] = test.genres_list.transform(lambda x: int(g in x))\n",
      "C:\\Users\\JaeHoBahng\\AppData\\Local\\Temp\\ipykernel_8532\\209495771.py:5: SettingWithCopyWarning: \n",
      "A value is trying to be set on a copy of a slice from a DataFrame.\n",
      "Try using .loc[row_indexer,col_indexer] = value instead\n",
      "\n",
      "See the caveats in the documentation: https://pandas.pydata.org/pandas-docs/stable/user_guide/indexing.html#returning-a-view-versus-a-copy\n",
      "  test[g] = test.genres_list.transform(lambda x: int(g in x))\n",
      "C:\\Users\\JaeHoBahng\\AppData\\Local\\Temp\\ipykernel_8532\\209495771.py:5: SettingWithCopyWarning: \n",
      "A value is trying to be set on a copy of a slice from a DataFrame.\n",
      "Try using .loc[row_indexer,col_indexer] = value instead\n",
      "\n",
      "See the caveats in the documentation: https://pandas.pydata.org/pandas-docs/stable/user_guide/indexing.html#returning-a-view-versus-a-copy\n",
      "  test[g] = test.genres_list.transform(lambda x: int(g in x))\n",
      "C:\\Users\\JaeHoBahng\\AppData\\Local\\Temp\\ipykernel_8532\\209495771.py:5: SettingWithCopyWarning: \n",
      "A value is trying to be set on a copy of a slice from a DataFrame.\n",
      "Try using .loc[row_indexer,col_indexer] = value instead\n",
      "\n",
      "See the caveats in the documentation: https://pandas.pydata.org/pandas-docs/stable/user_guide/indexing.html#returning-a-view-versus-a-copy\n",
      "  test[g] = test.genres_list.transform(lambda x: int(g in x))\n",
      "C:\\Users\\JaeHoBahng\\AppData\\Local\\Temp\\ipykernel_8532\\209495771.py:5: SettingWithCopyWarning: \n",
      "A value is trying to be set on a copy of a slice from a DataFrame.\n",
      "Try using .loc[row_indexer,col_indexer] = value instead\n",
      "\n",
      "See the caveats in the documentation: https://pandas.pydata.org/pandas-docs/stable/user_guide/indexing.html#returning-a-view-versus-a-copy\n",
      "  test[g] = test.genres_list.transform(lambda x: int(g in x))\n"
     ]
    }
   ],
   "source": [
    "genres = set(g for G in merged_df[\"genres_list\"] for g in G)\n",
    "test = merged_df[['movieId','genres_list']]\n",
    "\n",
    "for g in genres:\n",
    "    test[g] = test.genres_list.transform(lambda x: int(g in x))"
   ]
  },
  {
   "cell_type": "code",
   "execution_count": null,
   "metadata": {},
   "outputs": [],
   "source": [
    "test = test.reset_index(drop=True)\n",
    "movie_mapper = dict(zip(list(range(test.shape[0])), test[\"movieId\"]))\n",
    "movie_genres = test.drop(columns=['genres_list','movieId'])"
   ]
  },
  {
   "cell_type": "code",
   "execution_count": 226,
   "metadata": {},
   "outputs": [
    {
     "name": "stdout",
     "output_type": "stream",
     "text": [
      "Dimensions of our genres cosine similarity matrix: (45525, 45525)\n"
     ]
    }
   ],
   "source": [
    "from sklearn.metrics.pairwise import cosine_similarity\n",
    "\n",
    "cosine_sim = cosine_similarity(movie_genres, movie_genres)\n",
    "print(f\"Dimensions of our genres cosine similarity matrix: {cosine_sim.shape}\")"
   ]
  },
  {
   "cell_type": "code",
   "execution_count": 269,
   "metadata": {},
   "outputs": [],
   "source": [
    "idx=0\n",
    "n_recommendations=30\n",
    "sim_scores = list(enumerate(cosine_sim[idx]))\n",
    "sim_scores = sorted(sim_scores, key=lambda x: x[1], reverse=True)\n",
    "sim_scores = sim_scores[1:(n_recommendations+1)]\n",
    "similar_movies = [i[0] for i in sim_scores]"
   ]
  },
  {
   "cell_type": "code",
   "execution_count": 270,
   "metadata": {},
   "outputs": [],
   "source": [
    "genre_match = [movie_mapper[idx] for idx in similar_movies]"
   ]
  },
  {
   "cell_type": "code",
   "execution_count": 271,
   "metadata": {},
   "outputs": [
    {
     "data": {
      "text/plain": [
       "696                                      Oliver & Company\n",
       "728                                         A Close Shave\n",
       "1113                                   The Wrong Trousers\n",
       "1722                                     Meet the Deedles\n",
       "1943                            The Great Mouse Detective\n",
       "2457                                     Doug's 1st Movie\n",
       "3002                                          Toy Story 2\n",
       "3314                                    Creature Comforts\n",
       "3634                                          Chicken Run\n",
       "4763                                       Monsters, Inc.\n",
       "5636          The Looney, Looney, Looney Bugs Bunny Movie\n",
       "6806                         Looney Tunes: Back in Action\n",
       "7450     Bon Voyage, Charlie Brown (and Don't Come Back!)\n",
       "7741                                             Garfield\n",
       "8220                                          Bébé's Kids\n",
       "8260                      The SpongeBob SquarePants Movie\n",
       "9221                             An Extremely Goofy Movie\n",
       "9368                                     The Lion King 1½\n",
       "10537                                      Chicken Little\n",
       "10724                                         Hoodwinked!\n",
       "10986                                      Over the Hedge\n",
       "11072                     Garfield: A Tail of Two Kitties\n",
       "11179                                            Barnyard\n",
       "11285                           A Boy Named Charlie Brown\n",
       "11600                           The Ugly Duckling and Me!\n",
       "11746                                  Meet the Robinsons\n",
       "11761                     How the Grinch Stole Christmas!\n",
       "11882                                           Surf's Up\n",
       "11978                                  The Simpsons Movie\n",
       "13178                          A Matter of Loaf and Death\n",
       "Name: title, dtype: object"
      ]
     },
     "execution_count": 271,
     "metadata": {},
     "output_type": "execute_result"
    }
   ],
   "source": [
    "merged_df[merged_df['movieId'].isin(genre_match)]['title']"
   ]
  },
  {
   "cell_type": "code",
   "execution_count": null,
   "metadata": {},
   "outputs": [],
   "source": []
  },
  {
   "cell_type": "markdown",
   "metadata": {},
   "source": [
    "# Users with similar taste also watch"
   ]
  },
  {
   "cell_type": "code",
   "execution_count": null,
   "metadata": {},
   "outputs": [],
   "source": [
    "from sklearn.neighbors import NearestNeighbors\n",
    "\n",
    "def find_similar_movies(movie_id, X, movie_mapper, movie_inv_mapper, k, metric='cosine'):\n",
    "    \"\"\"\n",
    "    Finds k-nearest neighbours for a given movie id.\n",
    "    \n",
    "    Args:\n",
    "        movie_id: id of the movie of interest\n",
    "        X: user-item utility matrix\n",
    "        k: number of similar movies to retrieve\n",
    "        metric: distance metric for kNN calculations\n",
    "    \n",
    "    Output: returns list of k similar movie ID's\n",
    "    \"\"\"\n",
    "    X = X.T\n",
    "    neighbour_ids = []\n",
    "    \n",
    "    movie_ind = movie_mapper[movie_id]\n",
    "    movie_vec = X[movie_ind]\n",
    "    if isinstance(movie_vec, (np.ndarray)):\n",
    "        movie_vec = movie_vec.reshape(1,-1)\n",
    "    # use k+1 since kNN output includes the movieId of interest\n",
    "    kNN = NearestNeighbors(n_neighbors=k+1, algorithm=\"brute\", metric=metric)\n",
    "    kNN.fit(X)\n",
    "    neighbour = kNN.kneighbors(movie_vec, return_distance=False)\n",
    "    for i in range(0,k):\n",
    "        n = neighbour.item(i)\n",
    "        neighbour_ids.append(movie_inv_mapper[n])\n",
    "    neighbour_ids.pop(0)\n",
    "    return neighbour_ids"
   ]
  },
  {
   "cell_type": "code",
   "execution_count": null,
   "metadata": {},
   "outputs": [],
   "source": [
    "user_inv_mapper"
   ]
  },
  {
   "cell_type": "code",
   "execution_count": 311,
   "metadata": {},
   "outputs": [
    {
     "data": {
      "text/plain": [
       "[158371, 17415, 127566, 103723, 140899, 116913, 6354, 192355, 86271]"
      ]
     },
     "execution_count": 311,
     "metadata": {},
     "output_type": "execute_result"
    }
   ],
   "source": [
    "search = 1\n",
    "similar_users = find_similar_movies(search, X.T, user_mapper, user_inv_mapper, k=10)\n",
    "similar_users"
   ]
  },
  {
   "cell_type": "code",
   "execution_count": 313,
   "metadata": {},
   "outputs": [
    {
     "data": {
      "text/plain": [
       "array([1. , 4.5, 5. , ..., 4.5, 4.5, 2. ])"
      ]
     },
     "execution_count": 313,
     "metadata": {},
     "output_type": "execute_result"
    }
   ],
   "source": []
  },
  {
   "cell_type": "markdown",
   "metadata": {},
   "source": [
    "# Currently Trending"
   ]
  },
  {
   "cell_type": "markdown",
   "metadata": {},
   "source": [
    "# Best alltime"
   ]
  },
  {
   "cell_type": "markdown",
   "metadata": {},
   "source": []
  },
  {
   "cell_type": "markdown",
   "metadata": {},
   "source": [
    "# Movies like this (Songs like this on spotify)\n",
    "## What I'm used to\n",
    "## Completely new"
   ]
  },
  {
   "cell_type": "markdown",
   "metadata": {},
   "source": [
    "\n"
   ]
  }
 ],
 "metadata": {
  "kernelspec": {
   "display_name": "base",
   "language": "python",
   "name": "python3"
  },
  "language_info": {
   "codemirror_mode": {
    "name": "ipython",
    "version": 3
   },
   "file_extension": ".py",
   "mimetype": "text/x-python",
   "name": "python",
   "nbconvert_exporter": "python",
   "pygments_lexer": "ipython3",
   "version": "3.12.4"
  }
 },
 "nbformat": 4,
 "nbformat_minor": 2
}
